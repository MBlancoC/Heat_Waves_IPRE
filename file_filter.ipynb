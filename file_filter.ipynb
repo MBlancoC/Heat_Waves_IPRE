{
 "cells": [
  {
   "cell_type": "code",
   "execution_count": null,
   "metadata": {},
   "outputs": [
    {
     "name": "stdout",
     "output_type": "stream",
     "text": [
      "Filtered Tmin data saved to: filtered_tmin.xlsx\n",
      "Filtered Tmax data saved to: filtered_tmax.xlsx\n"
     ]
    }
   ],
   "source": [
    "def preprocess_temperature_data(df, commune_codes, commune_names, start_year, end_year):\n",
    "    # Rename columns to ensure all codes are strings\n",
    "    df.columns = df.columns.astype(str)\n",
    "\n",
    "    # Rename the first column\n",
    "    df.rename(columns={df.columns[0]: 'year'}, inplace=True)\n",
    "    df.rename(columns={df.columns[1]: 'month'}, inplace=True)\n",
    "    df.rename(columns={df.columns[2]: 'day'}, inplace=True)\n",
    "\n",
    "    # Filter rows based on year range\n",
    "    filtered_df = df[(df['year'] >= start_year) & (df['year'] <= end_year)]\n",
    "\n",
    "    # Retain only the columns for the specified commune codes\n",
    "    columns_to_keep = ['year'] + ['month'] + ['day'] + commune_codes\n",
    "    filtered_df = filtered_df[columns_to_keep]\n",
    "\n",
    "    # Add commune names\n",
    "    for code, name in zip(commune_codes, commune_names):\n",
    "        if code in filtered_df.columns:\n",
    "            filtered_df.rename(columns={code: f\"{name} ({code})\"}, inplace=True)\n",
    "\n",
    "    return filtered_df\n",
    "\n",
    "# Filter temperatures based on commune codes\n",
    "\n",
    "tmin_filtered = preprocess_temperature_data(tmin_df, commune_codes, commune_names, 1990, 2020)\n",
    "tmax_filtered = preprocess_temperature_data(tmax_df, commune_codes, commune_names, 1990, 2020)\n",
    "\n",
    "# Save filtered data to Excel\n",
    "tmin_filtered.to_excel(output_path_tmin, index=False)\n",
    "tmax_filtered.to_excel(output_path_tmax, index=False)\n",
    "\n",
    "print(f\"Filtered Tmin data saved to: {output_path_tmin}\")\n",
    "print(f\"Filtered Tmax data saved to: {output_path_tmax}\")\n"
   ]
  },
  {
   "cell_type": "code",
   "execution_count": null,
   "metadata": {},
   "outputs": [],
   "source": []
  },
  {
   "cell_type": "code",
   "execution_count": null,
   "metadata": {},
   "outputs": [],
   "source": []
  }
 ],
 "metadata": {
  "kernelspec": {
   "display_name": "lewagon",
   "language": "python",
   "name": "python3"
  },
  "language_info": {
   "codemirror_mode": {
    "name": "ipython",
    "version": 3
   },
   "file_extension": ".py",
   "mimetype": "text/x-python",
   "name": "python",
   "nbconvert_exporter": "python",
   "pygments_lexer": "ipython3",
   "version": "3.10.6"
  }
 },
 "nbformat": 4,
 "nbformat_minor": 2
}
