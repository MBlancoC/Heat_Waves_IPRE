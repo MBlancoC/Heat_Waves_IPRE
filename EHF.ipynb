{
 "cells": [
  {
   "cell_type": "code",
   "execution_count": null,
   "metadata": {},
   "outputs": [],
   "source": [
    "import pandas as pd\n",
    "import numpy as np\n",
    "\n",
    "def EHF(data, tmax_col, tmin_col, date_col, p_col, n_days=3, period_days=30):\n",
    "    # Verificar columnas\n",
    "    required_cols = [tmax_col, tmin_col, date_col, p_col]\n",
    "    if not all(col in data.columns for col in required_cols):\n",
    "        raise ValueError(\"Error: Una o más columnas especificadas no existen en los datos.\")\n",
    "\n",
    "    # Ordenar los datos por fecha para asegurar la secuencia\n",
    "    data = data.sort_values(by=date_col)\n",
    "\n",
    "    # Calcular temperatura media ajustada (tad)\n",
    "    data['TAD'] = (data[tmax_col] + data[tmin_col].shift(-1)) / 2\n",
    "\n",
    "    # Calcular TAD_p95 por grupo y agregarlo al marco de datos original\n",
    "    data['TAD_p95'] = data.groupby('com')['TAD'].transform(lambda x: x.quantile(0.95))\n",
    "\n",
    "    # Calcular EHIsigi, EHIaccli y EHF para `TAD` y `tmax`\n",
    "    data['EHIsigi_tad'] = data['TAD'].rolling(window=n_days).mean() - data['TAD_p95']\n",
    "    data['EHIaccli_tad'] = data['TAD'].rolling(window=n_days).mean() - data['TAD'].rolling(window=period_days).mean()\n",
    "    data['EHF_tad'] = data['EHIsigi_tad'] * np.maximum(1, data['EHIaccli_tad'])\n",
    "\n",
    "    data['EHIsigi_tmax'] = data[tmax_col].rolling(window=n_days).mean() - data[p_col]\n",
    "    data['EHIaccli_tmax'] = data[tmax_col].rolling(window=n_days).mean() - data[tmax_col].rolling(window=period_days).mean()\n",
    "    data['EHF_tmax'] = data['EHIsigi_tmax'] * np.maximum(1, data['EHIaccli_tmax'])\n",
    "\n",
    "    return data"
   ]
  },
  {
   "cell_type": "code",
   "execution_count": null,
   "metadata": {},
   "outputs": [],
   "source": []
  }
 ],
 "metadata": {
  "kernelspec": {
   "display_name": "lewagon",
   "language": "python",
   "name": "python3"
  },
  "language_info": {
   "codemirror_mode": {
    "name": "ipython",
    "version": 3
   },
   "file_extension": ".py",
   "mimetype": "text/x-python",
   "name": "python",
   "nbconvert_exporter": "python",
   "pygments_lexer": "ipython3",
   "version": "3.10.6"
  }
 },
 "nbformat": 4,
 "nbformat_minor": 2
}
